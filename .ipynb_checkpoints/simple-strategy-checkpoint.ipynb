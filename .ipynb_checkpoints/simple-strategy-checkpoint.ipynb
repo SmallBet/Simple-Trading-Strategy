{
 "cells": [
  {
   "cell_type": "markdown",
   "metadata": {},
   "source": [
    "## Build a Simple Trading Stratagy"
   ]
  },
  {
   "cell_type": "code",
   "execution_count": 5,
   "metadata": {},
   "outputs": [],
   "source": [
    "import pandas as pd\n",
    "import matplotlib.pyplot as plt\n",
    "%matplotlib inline \n",
    "# (% ...) is a magic function in IPython which renders the figure in a notebook (instead of displaying a dump of the figure object)"
   ]
  },
  {
   "cell_type": "markdown",
   "metadata": {},
   "source": [
    "### 1. Munging the stock data and add two columns - MA10 and MA50"
   ]
  },
  {
   "cell_type": "code",
   "execution_count": 9,
   "metadata": {},
   "outputs": [
    {
     "data": {
      "text/html": [
       "<div>\n",
       "<style scoped>\n",
       "    .dataframe tbody tr th:only-of-type {\n",
       "        vertical-align: middle;\n",
       "    }\n",
       "\n",
       "    .dataframe tbody tr th {\n",
       "        vertical-align: top;\n",
       "    }\n",
       "\n",
       "    .dataframe thead th {\n",
       "        text-align: right;\n",
       "    }\n",
       "</style>\n",
       "<table border=\"1\" class=\"dataframe\">\n",
       "  <thead>\n",
       "    <tr style=\"text-align: right;\">\n",
       "      <th></th>\n",
       "      <th>Date</th>\n",
       "      <th>Open</th>\n",
       "      <th>High</th>\n",
       "      <th>Low</th>\n",
       "      <th>Close</th>\n",
       "      <th>Adj Close</th>\n",
       "      <th>Volume</th>\n",
       "      <th>MA10</th>\n",
       "      <th>MA50</th>\n",
       "    </tr>\n",
       "  </thead>\n",
       "  <tbody>\n",
       "    <tr>\n",
       "      <td>49</td>\n",
       "      <td>2015-03-13</td>\n",
       "      <td>40.700001</td>\n",
       "      <td>41.470001</td>\n",
       "      <td>40.610001</td>\n",
       "      <td>41.380001</td>\n",
       "      <td>38.443489</td>\n",
       "      <td>58007700</td>\n",
       "      <td>42.495</td>\n",
       "      <td>44.0034</td>\n",
       "    </tr>\n",
       "    <tr>\n",
       "      <td>50</td>\n",
       "      <td>2015-03-16</td>\n",
       "      <td>41.470001</td>\n",
       "      <td>41.639999</td>\n",
       "      <td>41.279999</td>\n",
       "      <td>41.560001</td>\n",
       "      <td>38.610714</td>\n",
       "      <td>35273500</td>\n",
       "      <td>42.263</td>\n",
       "      <td>43.9056</td>\n",
       "    </tr>\n",
       "    <tr>\n",
       "      <td>51</td>\n",
       "      <td>2015-03-17</td>\n",
       "      <td>41.369999</td>\n",
       "      <td>41.830002</td>\n",
       "      <td>41.150002</td>\n",
       "      <td>41.700001</td>\n",
       "      <td>38.740784</td>\n",
       "      <td>31587200</td>\n",
       "      <td>42.105</td>\n",
       "      <td>43.8044</td>\n",
       "    </tr>\n",
       "    <tr>\n",
       "      <td>52</td>\n",
       "      <td>2015-03-18</td>\n",
       "      <td>41.430000</td>\n",
       "      <td>42.830002</td>\n",
       "      <td>41.330002</td>\n",
       "      <td>42.500000</td>\n",
       "      <td>39.484009</td>\n",
       "      <td>43971800</td>\n",
       "      <td>42.049</td>\n",
       "      <td>43.7278</td>\n",
       "    </tr>\n",
       "    <tr>\n",
       "      <td>53</td>\n",
       "      <td>2015-03-19</td>\n",
       "      <td>42.259998</td>\n",
       "      <td>42.590000</td>\n",
       "      <td>42.220001</td>\n",
       "      <td>42.290001</td>\n",
       "      <td>39.288918</td>\n",
       "      <td>33879100</td>\n",
       "      <td>41.967</td>\n",
       "      <td>43.6606</td>\n",
       "    </tr>\n",
       "  </tbody>\n",
       "</table>\n",
       "</div>"
      ],
      "text/plain": [
       "          Date       Open       High        Low      Close  Adj Close  \\\n",
       "49  2015-03-13  40.700001  41.470001  40.610001  41.380001  38.443489   \n",
       "50  2015-03-16  41.470001  41.639999  41.279999  41.560001  38.610714   \n",
       "51  2015-03-17  41.369999  41.830002  41.150002  41.700001  38.740784   \n",
       "52  2015-03-18  41.430000  42.830002  41.330002  42.500000  39.484009   \n",
       "53  2015-03-19  42.259998  42.590000  42.220001  42.290001  39.288918   \n",
       "\n",
       "      Volume    MA10     MA50  \n",
       "49  58007700  42.495  44.0034  \n",
       "50  35273500  42.263  43.9056  \n",
       "51  31587200  42.105  43.8044  \n",
       "52  43971800  42.049  43.7278  \n",
       "53  33879100  41.967  43.6606  "
      ]
     },
     "execution_count": 9,
     "metadata": {},
     "output_type": "execute_result"
    }
   ],
   "source": [
    "# Import MS's stock data, add two columns - MA10 and MA50\n",
    "# Use dropna to remove any \"Not a Number\" data\n",
    "ms = pd.read_csv('microsoft.csv')\n",
    "ms['MA10'] = ms['Close'].rolling(10).mean()\n",
    "ms['MA50'] = ms['Close'].rolling(50).mean()\n",
    "ms = ms.dropna()\n",
    "ms.head()\n",
    "# DataFrame.from_csv is deprecated now, replace it with pd.read_csv"
   ]
  },
  {
   "cell_type": "markdown",
   "metadata": {},
   "source": [
    "### 2. Add \"Share\" column to make a decision base on the strategy"
   ]
  },
  {
   "cell_type": "code",
   "execution_count": 10,
   "metadata": {},
   "outputs": [],
   "source": [
    "# Add a new column \"Shares\", if MA10 > MA50, denote as 1 (long one share of stock), otherwise, denote as 0 (do nothing)\n",
    "ms['Shares'] = [1 if ms.loc[ei, 'MA10'] > ms.loc[ei, 'MA50'] else 0 for ei in ms.index]"
   ]
  },
  {
   "cell_type": "code",
   "execution_count": 12,
   "metadata": {},
   "outputs": [
    {
     "data": {
      "text/plain": [
       "<matplotlib.lines.Line2D at 0x26a33523988>"
      ]
     },
     "execution_count": 12,
     "metadata": {},
     "output_type": "execute_result"
    },
    {
     "data": {
      "image/png": "[encoded data removed]",
      "text/plain": [
       "<Figure size 432x288 with 1 Axes>"
      ]
     },
     "metadata": {
      "needs_background": "light"
     },
     "output_type": "display_data"
    }
   ],
   "source": [
    "# Add a new column \"Profit\" using List Comprehension, for any rows in ms, if shares = 1,\n",
    "# the profit if calculated as the close price of tomorrow - the close price of today.\n",
    "# Otherwise the profit is 0.\n",
    "\n",
    "# Plot a graph to show the Profit/Loss\n",
    "\n",
    "ms['Close1'] = ms['Close'].shift(-1)\n",
    "ms['Profit'] = [ms.loc[ei, 'Close1'] - ms.loc[ei, 'Close'] if ms.loc[ei, 'Shares'] == 1 else 0 for ei in ms.index]\n",
    "ms['Profit'].plot()\n",
    "plt.axhline(y=0, color='red')"
   ]
  },
  {
   "cell_type": "markdown",
   "metadata": {},
   "source": [
    "### Use .cumsum() to display our model's performance if we follow the strategy"
   ]
  },
  {
   "cell_type": "code",
   "execution_count": 13,
   "metadata": {},
   "outputs": [
    {
     "data": {
      "text/html": [
       "<div>\n",
       "<style scoped>\n",
       "    .dataframe tbody tr th:only-of-type {\n",
       "        vertical-align: middle;\n",
       "    }\n",
       "\n",
       "    .dataframe tbody tr th {\n",
       "        vertical-align: top;\n",
       "    }\n",
       "\n",
       "    .dataframe thead th {\n",
       "        text-align: right;\n",
       "    }\n",
       "</style>\n",
       "<table border=\"1\" class=\"dataframe\">\n",
       "  <thead>\n",
       "    <tr style=\"text-align: right;\">\n",
       "      <th></th>\n",
       "      <th>Date</th>\n",
       "      <th>Open</th>\n",
       "      <th>High</th>\n",
       "      <th>Low</th>\n",
       "      <th>Close</th>\n",
       "      <th>Adj Close</th>\n",
       "      <th>Volume</th>\n",
       "      <th>MA10</th>\n",
       "      <th>MA50</th>\n",
       "      <th>Shares</th>\n",
       "      <th>Close1</th>\n",
       "      <th>Profit</th>\n",
       "      <th>wealth</th>\n",
       "    </tr>\n",
       "  </thead>\n",
       "  <tbody>\n",
       "    <tr>\n",
       "      <td>775</td>\n",
       "      <td>2018-01-30</td>\n",
       "      <td>93.300003</td>\n",
       "      <td>93.660004</td>\n",
       "      <td>92.099998</td>\n",
       "      <td>92.739998</td>\n",
       "      <td>92.306389</td>\n",
       "      <td>38635100</td>\n",
       "      <td>91.862</td>\n",
       "      <td>86.5244</td>\n",
       "      <td>1</td>\n",
       "      <td>95.010002</td>\n",
       "      <td>2.270004</td>\n",
       "      <td>30.540009</td>\n",
       "    </tr>\n",
       "    <tr>\n",
       "      <td>776</td>\n",
       "      <td>2018-01-31</td>\n",
       "      <td>93.750000</td>\n",
       "      <td>95.400002</td>\n",
       "      <td>93.510002</td>\n",
       "      <td>95.010002</td>\n",
       "      <td>94.565781</td>\n",
       "      <td>48756300</td>\n",
       "      <td>92.349</td>\n",
       "      <td>86.7606</td>\n",
       "      <td>1</td>\n",
       "      <td>94.260002</td>\n",
       "      <td>-0.750000</td>\n",
       "      <td>29.790009</td>\n",
       "    </tr>\n",
       "    <tr>\n",
       "      <td>777</td>\n",
       "      <td>2018-02-01</td>\n",
       "      <td>94.790001</td>\n",
       "      <td>96.070000</td>\n",
       "      <td>93.580002</td>\n",
       "      <td>94.260002</td>\n",
       "      <td>93.819290</td>\n",
       "      <td>47227900</td>\n",
       "      <td>92.765</td>\n",
       "      <td>86.9978</td>\n",
       "      <td>1</td>\n",
       "      <td>91.779999</td>\n",
       "      <td>-2.480003</td>\n",
       "      <td>27.310006</td>\n",
       "    </tr>\n",
       "    <tr>\n",
       "      <td>778</td>\n",
       "      <td>2018-02-02</td>\n",
       "      <td>93.639999</td>\n",
       "      <td>93.970001</td>\n",
       "      <td>91.500000</td>\n",
       "      <td>91.779999</td>\n",
       "      <td>91.350883</td>\n",
       "      <td>47867800</td>\n",
       "      <td>92.943</td>\n",
       "      <td>87.1828</td>\n",
       "      <td>1</td>\n",
       "      <td>88.000000</td>\n",
       "      <td>-3.779999</td>\n",
       "      <td>23.530007</td>\n",
       "    </tr>\n",
       "    <tr>\n",
       "      <td>779</td>\n",
       "      <td>2018-02-05</td>\n",
       "      <td>90.559998</td>\n",
       "      <td>93.239998</td>\n",
       "      <td>88.000000</td>\n",
       "      <td>88.000000</td>\n",
       "      <td>87.588554</td>\n",
       "      <td>51031500</td>\n",
       "      <td>92.582</td>\n",
       "      <td>87.2684</td>\n",
       "      <td>1</td>\n",
       "      <td>NaN</td>\n",
       "      <td>NaN</td>\n",
       "      <td>NaN</td>\n",
       "    </tr>\n",
       "  </tbody>\n",
       "</table>\n",
       "</div>"
      ],
      "text/plain": [
       "           Date       Open       High        Low      Close  Adj Close  \\\n",
       "775  2018-01-30  93.300003  93.660004  92.099998  92.739998  92.306389   \n",
       "776  2018-01-31  93.750000  95.400002  93.510002  95.010002  94.565781   \n",
       "777  2018-02-01  94.790001  96.070000  93.580002  94.260002  93.819290   \n",
       "778  2018-02-02  93.639999  93.970001  91.500000  91.779999  91.350883   \n",
       "779  2018-02-05  90.559998  93.239998  88.000000  88.000000  87.588554   \n",
       "\n",
       "       Volume    MA10     MA50  Shares     Close1    Profit     wealth  \n",
       "775  38635100  91.862  86.5244       1  95.010002  2.270004  30.540009  \n",
       "776  48756300  92.349  86.7606       1  94.260002 -0.750000  29.790009  \n",
       "777  47227900  92.765  86.9978       1  91.779999 -2.480003  27.310006  \n",
       "778  47867800  92.943  87.1828       1  88.000000 -3.779999  23.530007  \n",
       "779  51031500  92.582  87.2684       1        NaN       NaN        NaN  "
      ]
     },
     "execution_count": 13,
     "metadata": {},
     "output_type": "execute_result"
    }
   ],
   "source": [
    "# Use .cumsum() to calculate the accumulated wealth over the period\n",
    "ms['wealth'] = ms['Profit'].cumsum()\n",
    "ms.tail()"
   ]
  },
  {
   "cell_type": "code",
   "execution_count": 14,
   "metadata": {},
   "outputs": [
    {
     "data": {
      "text/plain": [
       "Text(0.5, 1.0, 'Total money you win is 23.53000699999999')"
      ]
     },
     "execution_count": 14,
     "metadata": {},
     "output_type": "execute_result"
    },
    {
     "data": {
      "image/png": "[encoded data removed]",
      "text/plain": [
       "<Figure size 432x288 with 1 Axes>"
      ]
     },
     "metadata": {
      "needs_background": "light"
     },
     "output_type": "display_data"
    }
   ],
   "source": [
    "# Plot the wealth to show the growth of profit over the period\n",
    "ms['wealth'].plot()\n",
    "plt.title('Total money you win is {}'.format(ms.loc[ms.index[-2], 'wealth']))"
   ]
  },
  {
   "cell_type": "code",
   "execution_count": null,
   "metadata": {},
   "outputs": [],
   "source": []
  }
 ],
 "metadata": {
  "kernelspec": {
   "display_name": "Python 3",
   "language": "python",
   "name": "python3"
  },
  "language_info": {
   "codemirror_mode": {
    "name": "ipython",
    "version": 3
   },
   "file_extension": ".py",
   "mimetype": "text/x-python",
   "name": "python",
   "nbconvert_exporter": "python",
   "pygments_lexer": "ipython3",
   "version": "3.7.4"
  }
 },
 "nbformat": 4,
 "nbformat_minor": 4
}
